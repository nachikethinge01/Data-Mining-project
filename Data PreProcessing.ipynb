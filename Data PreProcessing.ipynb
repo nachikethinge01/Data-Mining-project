{
 "cells": [
  {
   "cell_type": "code",
   "execution_count": 106,
   "id": "378ff79d",
   "metadata": {},
   "outputs": [],
   "source": [
    "import pandas as pd\n",
    "import numpy as np\n",
    "import matplotlib.pyplot as plt\n",
    "from sklearn.preprocessing import StandardScaler\n",
    "from sklearn.preprocessing import OneHotEncoder\n",
    "from sklearn.preprocessing import LabelEncoder"
   ]
  },
  {
   "cell_type": "code",
   "execution_count": 107,
   "id": "37034d71",
   "metadata": {},
   "outputs": [],
   "source": [
    "train = pd.read_csv(\"Data/Main_Data/fraudTrain.csv\")\n",
    "test = pd.read_csv(\"Data/Main_Data/fraudTest.csv\")"
   ]
  },
  {
   "cell_type": "code",
   "execution_count": 108,
   "id": "3be133c9",
   "metadata": {},
   "outputs": [
    {
     "data": {
      "text/plain": [
       "Index(['Unnamed: 0', 'trans_date_trans_time', 'cc_num', 'merchant', 'category',\n",
       "       'amt', 'first', 'last', 'gender', 'street', 'city', 'state', 'zip',\n",
       "       'lat', 'long', 'city_pop', 'job', 'dob', 'trans_num', 'unix_time',\n",
       "       'merch_lat', 'merch_long', 'is_fraud'],\n",
       "      dtype='object')"
      ]
     },
     "execution_count": 108,
     "metadata": {},
     "output_type": "execute_result"
    }
   ],
   "source": [
    "train.columns"
   ]
  },
  {
   "cell_type": "code",
   "execution_count": 109,
   "id": "45ee9654",
   "metadata": {},
   "outputs": [],
   "source": [
    "to_drop = ['first', 'last', 'street', 'city', 'street', 'job', 'trans_num']\n",
    "train = train.drop(to_drop, axis=1)\n",
    "test = test.drop(to_drop, axis=1)"
   ]
  },
  {
   "cell_type": "code",
   "execution_count": 110,
   "id": "3a8bd8ca",
   "metadata": {},
   "outputs": [],
   "source": [
    "train['dob'] = pd.to_datetime(train['dob'])\n",
    "train['trans_date_trans_time'] = pd.to_datetime(train['trans_date_trans_time'])\n",
    "\n",
    "test['dob'] = pd.to_datetime(test['dob'])\n",
    "test['trans_date_trans_time'] = pd.to_datetime(test['trans_date_trans_time'])"
   ]
  },
  {
   "cell_type": "code",
   "execution_count": 111,
   "id": "45517ee2",
   "metadata": {},
   "outputs": [],
   "source": [
    "train['age'] = 2023 - train['dob'].dt.year.astype(int)\n",
    "test['age'] = 2023 - test['dob'].dt.year.astype(int)"
   ]
  },
  {
   "cell_type": "code",
   "execution_count": 112,
   "id": "755b00fc",
   "metadata": {},
   "outputs": [],
   "source": [
    "train = train.drop('dob', axis = 1)\n",
    "test = test.drop('dob', axis = 1)"
   ]
  },
  {
   "cell_type": "code",
   "execution_count": 113,
   "id": "c066e6ab",
   "metadata": {},
   "outputs": [],
   "source": [
    "train['trans_year'] = train['trans_date_trans_time'].dt.year.astype(int)\n",
    "train['trans_month'] = train['trans_date_trans_time'].dt.month.astype(int)\n",
    "train['trans_hour'] = train['trans_date_trans_time'].dt.hour.astype(int)\n",
    "\n",
    "test['trans_year'] = test['trans_date_trans_time'].dt.year.astype(int)\n",
    "test['trans_month'] = test['trans_date_trans_time'].dt.month.astype(int)\n",
    "test['trans_hour'] = test['trans_date_trans_time'].dt.hour.astype(int)"
   ]
  },
  {
   "cell_type": "code",
   "execution_count": 114,
   "id": "9e4a1e8d",
   "metadata": {},
   "outputs": [],
   "source": [
    "train = train.drop('trans_date_trans_time', axis = 1)\n",
    "test = test.drop('trans_date_trans_time', axis = 1)"
   ]
  },
  {
   "cell_type": "code",
   "execution_count": 115,
   "id": "f0967b3d",
   "metadata": {},
   "outputs": [
    {
     "data": {
      "text/html": [
       "<div>\n",
       "<style scoped>\n",
       "    .dataframe tbody tr th:only-of-type {\n",
       "        vertical-align: middle;\n",
       "    }\n",
       "\n",
       "    .dataframe tbody tr th {\n",
       "        vertical-align: top;\n",
       "    }\n",
       "\n",
       "    .dataframe thead th {\n",
       "        text-align: right;\n",
       "    }\n",
       "</style>\n",
       "<table border=\"1\" class=\"dataframe\">\n",
       "  <thead>\n",
       "    <tr style=\"text-align: right;\">\n",
       "      <th></th>\n",
       "      <th>Unnamed: 0</th>\n",
       "      <th>cc_num</th>\n",
       "      <th>merchant</th>\n",
       "      <th>category</th>\n",
       "      <th>amt</th>\n",
       "      <th>gender</th>\n",
       "      <th>state</th>\n",
       "      <th>zip</th>\n",
       "      <th>lat</th>\n",
       "      <th>long</th>\n",
       "      <th>city_pop</th>\n",
       "      <th>unix_time</th>\n",
       "      <th>merch_lat</th>\n",
       "      <th>merch_long</th>\n",
       "      <th>is_fraud</th>\n",
       "      <th>age</th>\n",
       "      <th>trans_year</th>\n",
       "      <th>trans_month</th>\n",
       "      <th>trans_hour</th>\n",
       "    </tr>\n",
       "  </thead>\n",
       "  <tbody>\n",
       "    <tr>\n",
       "      <th>0</th>\n",
       "      <td>0</td>\n",
       "      <td>2703186189652095</td>\n",
       "      <td>fraud_Rippin, Kub and Mann</td>\n",
       "      <td>misc_net</td>\n",
       "      <td>4.97</td>\n",
       "      <td>F</td>\n",
       "      <td>NC</td>\n",
       "      <td>28654</td>\n",
       "      <td>36.0788</td>\n",
       "      <td>-81.1781</td>\n",
       "      <td>3495</td>\n",
       "      <td>1325376018</td>\n",
       "      <td>36.011293</td>\n",
       "      <td>-82.048315</td>\n",
       "      <td>0</td>\n",
       "      <td>35</td>\n",
       "      <td>2019</td>\n",
       "      <td>1</td>\n",
       "      <td>0</td>\n",
       "    </tr>\n",
       "    <tr>\n",
       "      <th>1</th>\n",
       "      <td>1</td>\n",
       "      <td>630423337322</td>\n",
       "      <td>fraud_Heller, Gutmann and Zieme</td>\n",
       "      <td>grocery_pos</td>\n",
       "      <td>107.23</td>\n",
       "      <td>F</td>\n",
       "      <td>WA</td>\n",
       "      <td>99160</td>\n",
       "      <td>48.8878</td>\n",
       "      <td>-118.2105</td>\n",
       "      <td>149</td>\n",
       "      <td>1325376044</td>\n",
       "      <td>49.159047</td>\n",
       "      <td>-118.186462</td>\n",
       "      <td>0</td>\n",
       "      <td>45</td>\n",
       "      <td>2019</td>\n",
       "      <td>1</td>\n",
       "      <td>0</td>\n",
       "    </tr>\n",
       "    <tr>\n",
       "      <th>2</th>\n",
       "      <td>2</td>\n",
       "      <td>38859492057661</td>\n",
       "      <td>fraud_Lind-Buckridge</td>\n",
       "      <td>entertainment</td>\n",
       "      <td>220.11</td>\n",
       "      <td>M</td>\n",
       "      <td>ID</td>\n",
       "      <td>83252</td>\n",
       "      <td>42.1808</td>\n",
       "      <td>-112.2620</td>\n",
       "      <td>4154</td>\n",
       "      <td>1325376051</td>\n",
       "      <td>43.150704</td>\n",
       "      <td>-112.154481</td>\n",
       "      <td>0</td>\n",
       "      <td>61</td>\n",
       "      <td>2019</td>\n",
       "      <td>1</td>\n",
       "      <td>0</td>\n",
       "    </tr>\n",
       "    <tr>\n",
       "      <th>3</th>\n",
       "      <td>3</td>\n",
       "      <td>3534093764340240</td>\n",
       "      <td>fraud_Kutch, Hermiston and Farrell</td>\n",
       "      <td>gas_transport</td>\n",
       "      <td>45.00</td>\n",
       "      <td>M</td>\n",
       "      <td>MT</td>\n",
       "      <td>59632</td>\n",
       "      <td>46.2306</td>\n",
       "      <td>-112.1138</td>\n",
       "      <td>1939</td>\n",
       "      <td>1325376076</td>\n",
       "      <td>47.034331</td>\n",
       "      <td>-112.561071</td>\n",
       "      <td>0</td>\n",
       "      <td>56</td>\n",
       "      <td>2019</td>\n",
       "      <td>1</td>\n",
       "      <td>0</td>\n",
       "    </tr>\n",
       "    <tr>\n",
       "      <th>4</th>\n",
       "      <td>4</td>\n",
       "      <td>375534208663984</td>\n",
       "      <td>fraud_Keeling-Crist</td>\n",
       "      <td>misc_pos</td>\n",
       "      <td>41.96</td>\n",
       "      <td>M</td>\n",
       "      <td>VA</td>\n",
       "      <td>24433</td>\n",
       "      <td>38.4207</td>\n",
       "      <td>-79.4629</td>\n",
       "      <td>99</td>\n",
       "      <td>1325376186</td>\n",
       "      <td>38.674999</td>\n",
       "      <td>-78.632459</td>\n",
       "      <td>0</td>\n",
       "      <td>37</td>\n",
       "      <td>2019</td>\n",
       "      <td>1</td>\n",
       "      <td>0</td>\n",
       "    </tr>\n",
       "  </tbody>\n",
       "</table>\n",
       "</div>"
      ],
      "text/plain": [
       "   Unnamed: 0            cc_num                            merchant  \\\n",
       "0           0  2703186189652095          fraud_Rippin, Kub and Mann   \n",
       "1           1      630423337322     fraud_Heller, Gutmann and Zieme   \n",
       "2           2    38859492057661                fraud_Lind-Buckridge   \n",
       "3           3  3534093764340240  fraud_Kutch, Hermiston and Farrell   \n",
       "4           4   375534208663984                 fraud_Keeling-Crist   \n",
       "\n",
       "        category     amt gender state    zip      lat      long  city_pop  \\\n",
       "0       misc_net    4.97      F    NC  28654  36.0788  -81.1781      3495   \n",
       "1    grocery_pos  107.23      F    WA  99160  48.8878 -118.2105       149   \n",
       "2  entertainment  220.11      M    ID  83252  42.1808 -112.2620      4154   \n",
       "3  gas_transport   45.00      M    MT  59632  46.2306 -112.1138      1939   \n",
       "4       misc_pos   41.96      M    VA  24433  38.4207  -79.4629        99   \n",
       "\n",
       "    unix_time  merch_lat  merch_long  is_fraud  age  trans_year  trans_month  \\\n",
       "0  1325376018  36.011293  -82.048315         0   35        2019            1   \n",
       "1  1325376044  49.159047 -118.186462         0   45        2019            1   \n",
       "2  1325376051  43.150704 -112.154481         0   61        2019            1   \n",
       "3  1325376076  47.034331 -112.561071         0   56        2019            1   \n",
       "4  1325376186  38.674999  -78.632459         0   37        2019            1   \n",
       "\n",
       "   trans_hour  \n",
       "0           0  \n",
       "1           0  \n",
       "2           0  \n",
       "3           0  \n",
       "4           0  "
      ]
     },
     "execution_count": 115,
     "metadata": {},
     "output_type": "execute_result"
    }
   ],
   "source": [
    "train.head()"
   ]
  },
  {
   "cell_type": "code",
   "execution_count": 116,
   "id": "58cdb232",
   "metadata": {},
   "outputs": [],
   "source": [
    "gender_mapping = {'F': 0, 'M': 1}\n",
    "train['gender'] = train['gender'].map(gender_mapping)\n",
    "test['gender'] = test['gender'].map(gender_mapping)"
   ]
  },
  {
   "cell_type": "code",
   "execution_count": 117,
   "id": "180f9ed4",
   "metadata": {},
   "outputs": [],
   "source": [
    "label_encoder = LabelEncoder()\n",
    "\n",
    "# Fit the LabelEncoder to the 'State' column\n",
    "label_encoder.fit(train['state'])\n",
    "\n",
    "# Transform the 'State' column to numerical values\n",
    "train['state'] = label_encoder.transform(train['state'])\n",
    "test['state'] = label_encoder.transform(test['state'])"
   ]
  },
  {
   "cell_type": "code",
   "execution_count": null,
   "id": "1042f0dd",
   "metadata": {},
   "outputs": [],
   "source": [
    "label_encoder_cat = LabelEncoder()\n",
    "\n",
    "# Fit the LabelEncoder to the 'State' column\n",
    "label_encoder_cat.fit(train['category'])\n",
    "\n",
    "# Transform the 'State' column to numerical values\n",
    "train['category'] = label_encoder_cat.transform(train['category'])\n",
    "test['category'] = label_encoder_cat.transform(test['category'])"
   ]
  },
  {
   "cell_type": "code",
   "execution_count": null,
   "id": "ddd49414",
   "metadata": {},
   "outputs": [],
   "source": [
    "len(train.merchant.unique())"
   ]
  },
  {
   "cell_type": "code",
   "execution_count": null,
   "id": "c1854be1",
   "metadata": {},
   "outputs": [],
   "source": [
    "label_encoder_merch = LabelEncoder()\n",
    "\n",
    "# Fit the LabelEncoder to the 'State' column\n",
    "label_encoder_merch.fit(train['merchant'])\n",
    "\n",
    "# Transform the 'State' column to numerical values\n",
    "train['merchant'] = label_encoder_merch.transform(train['merchant'])\n",
    "test['merchant'] = label_encoder_merch.transform(test['merchant'])"
   ]
  },
  {
   "cell_type": "code",
   "execution_count": null,
   "id": "1293693a",
   "metadata": {},
   "outputs": [],
   "source": [
    "train.head()"
   ]
  },
  {
   "cell_type": "code",
   "execution_count": null,
   "id": "d5358f25",
   "metadata": {},
   "outputs": [],
   "source": [
    "test.head()"
   ]
  },
  {
   "cell_type": "code",
   "execution_count": null,
   "id": "ade395a1",
   "metadata": {},
   "outputs": [],
   "source": [
    "train[\"gender\"] = train.gender.astype(\"category\")\n",
    "train[\"state\"] = train.state.astype(\"category\")\n",
    "train[\"category\"] = train.category.astype(\"category\")"
   ]
  },
  {
   "cell_type": "code",
   "execution_count": null,
   "id": "9c740751",
   "metadata": {},
   "outputs": [],
   "source": [
    "test[\"gender\"] = test.gender.astype(\"category\")\n",
    "test[\"state\"] = test.state.astype(\"category\")\n",
    "test[\"category\"] = test.category.astype(\"category\")"
   ]
  },
  {
   "cell_type": "code",
   "execution_count": null,
   "id": "d96649ef",
   "metadata": {},
   "outputs": [],
   "source": [
    "numerical_features = ['amt', 'lat', 'long', 'city_pop', 'unix_time', 'merch_lat', 'merch_long']\n",
    "scaler = StandardScaler()\n",
    "train[numerical_features] = scaler.fit_transform(train[numerical_features])\n",
    "test[numerical_features] = scaler.fit_transform(test[numerical_features])"
   ]
  },
  {
   "cell_type": "code",
   "execution_count": null,
   "id": "3dac0bb2",
   "metadata": {},
   "outputs": [],
   "source": [
    "from sklearn.model_selection import train_test_split\n",
    "\n",
    "data = pd.concat([train, test])\n",
    "\n",
    "# Separate fraud and non-fraud samples\n",
    "fraud_data = data[data['is_fraud'] == 1]\n",
    "non_fraud_data = data[data['is_fraud'] == 0]\n",
    "\n",
    "# Split the fraud and non-fraud samples into training and testing sets separately\n",
    "X_train_fraud, X_test_fraud, y_train_fraud, y_test_fraud = train_test_split(\n",
    "    fraud_data.drop('is_fraud', axis=1), fraud_data['is_fraud'], test_size=0.12, random_state=42)\n",
    "\n",
    "X_train_non_fraud, X_test_non_fraud, y_train_non_fraud, y_test_non_fraud = train_test_split(\n",
    "    non_fraud_data.drop('is_fraud', axis=1), non_fraud_data['is_fraud'], test_size=0.12, random_state=42)\n",
    "\n",
    "# Balance the training set by resampling non-fraud samples\n",
    "non_fraud_sample_size = int(len(y_train_fraud) * 2) # Adjust the multiplier to control the balance\n",
    "X_train_non_fraud_resampled = X_train_non_fraud.sample(n=non_fraud_sample_size, random_state=42)\n",
    "y_train_non_fraud_resampled = y_train_non_fraud.sample(n=non_fraud_sample_size, random_state=42)\n",
    "\n",
    "\n",
    "# Combine the fraud and resampled non-fraud samples for the training set\n",
    "X_train = pd.concat([X_train_fraud, X_train_non_fraud_resampled])\n",
    "y_train = pd.concat([y_train_fraud, y_train_non_fraud_resampled])\n",
    "\n",
    "# Combine the fraud and non-fraud samples for the testing set\n",
    "X_test = pd.concat([X_test_fraud, X_test_non_fraud_resampled])\n",
    "y_test = pd.concat([y_test_fraud, y_test_non_fraud_resampled])\n",
    "\n",
    "# Shuffle the training and testing sets\n",
    "X_train, y_train = X_train.sample(frac=1, random_state=42), y_train.sample(frac=1, random_state=42)\n",
    "X_test, y_test = X_test.sample(frac=1, random_state=42), y_test.sample(frac=1, random_state=42)\n"
   ]
  },
  {
   "cell_type": "code",
   "execution_count": null,
   "id": "ba15ec1e",
   "metadata": {},
   "outputs": [],
   "source": [
    "print(X_train.shape)\n",
    "print(y_train.shape)\n",
    "print(\"--\")\n",
    "print(X_test.shape)\n",
    "print(y_test.shape)"
   ]
  },
  {
   "cell_type": "code",
   "execution_count": null,
   "id": "4c46ee1e",
   "metadata": {},
   "outputs": [],
   "source": [
    "print(len(y_train[y_train == 1]))\n",
    "print(len(y_train[y_train == 0]))"
   ]
  },
  {
   "cell_type": "code",
   "execution_count": null,
   "id": "ea99ff10",
   "metadata": {},
   "outputs": [],
   "source": [
    "print(len(y_test[y_test == 1]))\n",
    "print(len(y_test[y_test == 0]))"
   ]
  },
  {
   "cell_type": "code",
   "execution_count": null,
   "id": "74267286",
   "metadata": {},
   "outputs": [],
   "source": [
    "X_train.to_csv(\"X_train.csv\")\n",
    "y_train.to_csv(\"y_train.csv\")\n",
    "\n",
    "X_test.to_csv(\"X_test.csv\")\n",
    "y_test.to_csv(\"y_test.csv\")"
   ]
  },
  {
   "cell_type": "code",
   "execution_count": null,
   "id": "714ea279",
   "metadata": {},
   "outputs": [],
   "source": [
    "y_train"
   ]
  },
  {
   "cell_type": "code",
   "execution_count": null,
   "id": "b785b38d",
   "metadata": {},
   "outputs": [],
   "source": [
    "X_train = pd.read_csv(\"Data/Sample_Data/X_train.csv\")\n",
    "y_train = pd.read_csv(\"Data/Sample_Data/y_train.csv\")\n",
    "len(X_train) == len(y_train)"
   ]
  }
 ],
 "metadata": {
  "kernelspec": {
   "display_name": "Python 3 (ipykernel)",
   "language": "python",
   "name": "python3"
  },
  "language_info": {
   "codemirror_mode": {
    "name": "ipython",
    "version": 3
   },
   "file_extension": ".py",
   "mimetype": "text/x-python",
   "name": "python",
   "nbconvert_exporter": "python",
   "pygments_lexer": "ipython3",
   "version": "3.9.0"
  }
 },
 "nbformat": 4,
 "nbformat_minor": 5
}
