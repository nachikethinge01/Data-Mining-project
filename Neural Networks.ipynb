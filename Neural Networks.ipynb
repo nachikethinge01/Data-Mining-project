{
 "cells": [
  {
   "cell_type": "code",
   "execution_count": 68,
   "id": "93698a4c",
   "metadata": {},
   "outputs": [],
   "source": [
    "import pandas as pd\n",
    "import numpy as np\n",
    "import matplotlib.pyplot as plt\n",
    "import torch as tc\n",
    "from torch.utils.data import Dataset, DataLoader\n",
    "import torch.nn as nn\n",
    "import torch.optim as optim\n",
    "from sklearn.metrics import accuracy_score"
   ]
  },
  {
   "cell_type": "code",
   "execution_count": 70,
   "id": "b885daa3",
   "metadata": {},
   "outputs": [],
   "source": [
    "X_train = pd.read_csv(\"Data/X_train.csv\")\n",
    "y_train = pd.read_csv(\"Data/y_train.csv\")\n",
    "\n",
    "X_test = pd.read_csv(\"Data/X_test.csv\")\n",
    "y_test = pd.read_csv(\"Data/y_test.csv\")"
   ]
  },
  {
   "cell_type": "code",
   "execution_count": 71,
   "id": "30222212",
   "metadata": {},
   "outputs": [],
   "source": [
    "y_train = y_train['is_fraud']"
   ]
  },
  {
   "cell_type": "code",
   "execution_count": 72,
   "id": "c1df53e5",
   "metadata": {},
   "outputs": [],
   "source": [
    "y_test = y_test['is_fraud']"
   ]
  },
  {
   "cell_type": "code",
   "execution_count": 73,
   "id": "d27c1eef",
   "metadata": {},
   "outputs": [],
   "source": [
    "X_train = X_train.drop(['Unnamed: 0.1', 'Unnamed: 0'], axis = 1)\n",
    "X_test = X_test.drop(['Unnamed: 0.1', 'Unnamed: 0'], axis = 1)"
   ]
  },
  {
   "cell_type": "code",
   "execution_count": 74,
   "id": "727231c3",
   "metadata": {},
   "outputs": [
    {
     "data": {
      "text/html": [
       "<div>\n",
       "<style scoped>\n",
       "    .dataframe tbody tr th:only-of-type {\n",
       "        vertical-align: middle;\n",
       "    }\n",
       "\n",
       "    .dataframe tbody tr th {\n",
       "        vertical-align: top;\n",
       "    }\n",
       "\n",
       "    .dataframe thead th {\n",
       "        text-align: right;\n",
       "    }\n",
       "</style>\n",
       "<table border=\"1\" class=\"dataframe\">\n",
       "  <thead>\n",
       "    <tr style=\"text-align: right;\">\n",
       "      <th></th>\n",
       "      <th>cc_num</th>\n",
       "      <th>merchant</th>\n",
       "      <th>category</th>\n",
       "      <th>amt</th>\n",
       "      <th>gender</th>\n",
       "      <th>state</th>\n",
       "      <th>zip</th>\n",
       "      <th>lat</th>\n",
       "      <th>long</th>\n",
       "      <th>city_pop</th>\n",
       "      <th>unix_time</th>\n",
       "      <th>merch_lat</th>\n",
       "      <th>merch_long</th>\n",
       "      <th>age</th>\n",
       "      <th>trans_year</th>\n",
       "      <th>trans_month</th>\n",
       "      <th>trans_hour</th>\n",
       "    </tr>\n",
       "  </thead>\n",
       "  <tbody>\n",
       "    <tr>\n",
       "      <th>0</th>\n",
       "      <td>4079773899158</td>\n",
       "      <td>208</td>\n",
       "      <td>2</td>\n",
       "      <td>-0.312202</td>\n",
       "      <td>1</td>\n",
       "      <td>13</td>\n",
       "      <td>83643</td>\n",
       "      <td>1.199391</td>\n",
       "      <td>-1.905867</td>\n",
       "      <td>-0.293736</td>\n",
       "      <td>-1.055007</td>\n",
       "      <td>1.039066</td>\n",
       "      <td>-1.972841</td>\n",
       "      <td>58</td>\n",
       "      <td>2019</td>\n",
       "      <td>4</td>\n",
       "      <td>10</td>\n",
       "    </tr>\n",
       "    <tr>\n",
       "      <th>1</th>\n",
       "      <td>3576281490078437</td>\n",
       "      <td>325</td>\n",
       "      <td>8</td>\n",
       "      <td>4.091703</td>\n",
       "      <td>1</td>\n",
       "      <td>15</td>\n",
       "      <td>47470</td>\n",
       "      <td>0.045491</td>\n",
       "      <td>0.262563</td>\n",
       "      <td>-0.287915</td>\n",
       "      <td>-1.015028</td>\n",
       "      <td>-0.122745</td>\n",
       "      <td>0.248130</td>\n",
       "      <td>33</td>\n",
       "      <td>2020</td>\n",
       "      <td>8</td>\n",
       "      <td>23</td>\n",
       "    </tr>\n",
       "    <tr>\n",
       "      <th>2</th>\n",
       "      <td>3529597810116815</td>\n",
       "      <td>227</td>\n",
       "      <td>8</td>\n",
       "      <td>-0.424044</td>\n",
       "      <td>0</td>\n",
       "      <td>38</td>\n",
       "      <td>17060</td>\n",
       "      <td>0.380290</td>\n",
       "      <td>0.896110</td>\n",
       "      <td>-0.289745</td>\n",
       "      <td>-0.813375</td>\n",
       "      <td>0.251476</td>\n",
       "      <td>0.824554</td>\n",
       "      <td>37</td>\n",
       "      <td>2019</td>\n",
       "      <td>6</td>\n",
       "      <td>8</td>\n",
       "    </tr>\n",
       "    <tr>\n",
       "      <th>3</th>\n",
       "      <td>213157767990030</td>\n",
       "      <td>304</td>\n",
       "      <td>11</td>\n",
       "      <td>6.785967</td>\n",
       "      <td>0</td>\n",
       "      <td>50</td>\n",
       "      <td>82901</td>\n",
       "      <td>0.604511</td>\n",
       "      <td>-1.381173</td>\n",
       "      <td>-0.201531</td>\n",
       "      <td>-0.397614</td>\n",
       "      <td>0.538835</td>\n",
       "      <td>-1.427778</td>\n",
       "      <td>39</td>\n",
       "      <td>2019</td>\n",
       "      <td>8</td>\n",
       "      <td>3</td>\n",
       "    </tr>\n",
       "    <tr>\n",
       "      <th>4</th>\n",
       "      <td>213180742685905</td>\n",
       "      <td>395</td>\n",
       "      <td>4</td>\n",
       "      <td>1.486784</td>\n",
       "      <td>0</td>\n",
       "      <td>4</td>\n",
       "      <td>95528</td>\n",
       "      <td>0.387990</td>\n",
       "      <td>-2.459084</td>\n",
       "      <td>-0.289899</td>\n",
       "      <td>1.116333</td>\n",
       "      <td>0.224375</td>\n",
       "      <td>-2.425539</td>\n",
       "      <td>72</td>\n",
       "      <td>2020</td>\n",
       "      <td>12</td>\n",
       "      <td>6</td>\n",
       "    </tr>\n",
       "  </tbody>\n",
       "</table>\n",
       "</div>"
      ],
      "text/plain": [
       "             cc_num  merchant  category       amt  gender  state    zip  \\\n",
       "0     4079773899158       208         2 -0.312202       1     13  83643   \n",
       "1  3576281490078437       325         8  4.091703       1     15  47470   \n",
       "2  3529597810116815       227         8 -0.424044       0     38  17060   \n",
       "3   213157767990030       304        11  6.785967       0     50  82901   \n",
       "4   213180742685905       395         4  1.486784       0      4  95528   \n",
       "\n",
       "        lat      long  city_pop  unix_time  merch_lat  merch_long  age  \\\n",
       "0  1.199391 -1.905867 -0.293736  -1.055007   1.039066   -1.972841   58   \n",
       "1  0.045491  0.262563 -0.287915  -1.015028  -0.122745    0.248130   33   \n",
       "2  0.380290  0.896110 -0.289745  -0.813375   0.251476    0.824554   37   \n",
       "3  0.604511 -1.381173 -0.201531  -0.397614   0.538835   -1.427778   39   \n",
       "4  0.387990 -2.459084 -0.289899   1.116333   0.224375   -2.425539   72   \n",
       "\n",
       "   trans_year  trans_month  trans_hour  \n",
       "0        2019            4          10  \n",
       "1        2020            8          23  \n",
       "2        2019            6           8  \n",
       "3        2019            8           3  \n",
       "4        2020           12           6  "
      ]
     },
     "execution_count": 74,
     "metadata": {},
     "output_type": "execute_result"
    }
   ],
   "source": [
    "X_train.head()"
   ]
  },
  {
   "cell_type": "code",
   "execution_count": 75,
   "id": "5006d82a",
   "metadata": {},
   "outputs": [
    {
     "data": {
      "text/plain": [
       "17"
      ]
     },
     "execution_count": 75,
     "metadata": {},
     "output_type": "execute_result"
    }
   ],
   "source": [
    "len(X_train.columns)"
   ]
  },
  {
   "cell_type": "code",
   "execution_count": 76,
   "id": "b5b8e4ce",
   "metadata": {},
   "outputs": [
    {
     "data": {
      "text/html": [
       "<div>\n",
       "<style scoped>\n",
       "    .dataframe tbody tr th:only-of-type {\n",
       "        vertical-align: middle;\n",
       "    }\n",
       "\n",
       "    .dataframe tbody tr th {\n",
       "        vertical-align: top;\n",
       "    }\n",
       "\n",
       "    .dataframe thead th {\n",
       "        text-align: right;\n",
       "    }\n",
       "</style>\n",
       "<table border=\"1\" class=\"dataframe\">\n",
       "  <thead>\n",
       "    <tr style=\"text-align: right;\">\n",
       "      <th></th>\n",
       "      <th>cc_num</th>\n",
       "      <th>merchant</th>\n",
       "      <th>category</th>\n",
       "      <th>amt</th>\n",
       "      <th>gender</th>\n",
       "      <th>state</th>\n",
       "      <th>zip</th>\n",
       "      <th>lat</th>\n",
       "      <th>long</th>\n",
       "      <th>city_pop</th>\n",
       "      <th>unix_time</th>\n",
       "      <th>merch_lat</th>\n",
       "      <th>merch_long</th>\n",
       "      <th>age</th>\n",
       "      <th>trans_year</th>\n",
       "      <th>trans_month</th>\n",
       "      <th>trans_hour</th>\n",
       "    </tr>\n",
       "  </thead>\n",
       "  <tbody>\n",
       "    <tr>\n",
       "      <th>0</th>\n",
       "      <td>4079773899158</td>\n",
       "      <td>208</td>\n",
       "      <td>2</td>\n",
       "      <td>-0.312202</td>\n",
       "      <td>1</td>\n",
       "      <td>13</td>\n",
       "      <td>83643</td>\n",
       "      <td>1.199391</td>\n",
       "      <td>-1.905867</td>\n",
       "      <td>-0.293736</td>\n",
       "      <td>-1.055007</td>\n",
       "      <td>1.039066</td>\n",
       "      <td>-1.972841</td>\n",
       "      <td>58</td>\n",
       "      <td>2019</td>\n",
       "      <td>4</td>\n",
       "      <td>10</td>\n",
       "    </tr>\n",
       "    <tr>\n",
       "      <th>1</th>\n",
       "      <td>3576281490078437</td>\n",
       "      <td>325</td>\n",
       "      <td>8</td>\n",
       "      <td>4.091703</td>\n",
       "      <td>1</td>\n",
       "      <td>15</td>\n",
       "      <td>47470</td>\n",
       "      <td>0.045491</td>\n",
       "      <td>0.262563</td>\n",
       "      <td>-0.287915</td>\n",
       "      <td>-1.015028</td>\n",
       "      <td>-0.122745</td>\n",
       "      <td>0.248130</td>\n",
       "      <td>33</td>\n",
       "      <td>2020</td>\n",
       "      <td>8</td>\n",
       "      <td>23</td>\n",
       "    </tr>\n",
       "    <tr>\n",
       "      <th>2</th>\n",
       "      <td>3529597810116815</td>\n",
       "      <td>227</td>\n",
       "      <td>8</td>\n",
       "      <td>-0.424044</td>\n",
       "      <td>0</td>\n",
       "      <td>38</td>\n",
       "      <td>17060</td>\n",
       "      <td>0.380290</td>\n",
       "      <td>0.896110</td>\n",
       "      <td>-0.289745</td>\n",
       "      <td>-0.813375</td>\n",
       "      <td>0.251476</td>\n",
       "      <td>0.824554</td>\n",
       "      <td>37</td>\n",
       "      <td>2019</td>\n",
       "      <td>6</td>\n",
       "      <td>8</td>\n",
       "    </tr>\n",
       "    <tr>\n",
       "      <th>3</th>\n",
       "      <td>213157767990030</td>\n",
       "      <td>304</td>\n",
       "      <td>11</td>\n",
       "      <td>6.785967</td>\n",
       "      <td>0</td>\n",
       "      <td>50</td>\n",
       "      <td>82901</td>\n",
       "      <td>0.604511</td>\n",
       "      <td>-1.381173</td>\n",
       "      <td>-0.201531</td>\n",
       "      <td>-0.397614</td>\n",
       "      <td>0.538835</td>\n",
       "      <td>-1.427778</td>\n",
       "      <td>39</td>\n",
       "      <td>2019</td>\n",
       "      <td>8</td>\n",
       "      <td>3</td>\n",
       "    </tr>\n",
       "    <tr>\n",
       "      <th>4</th>\n",
       "      <td>213180742685905</td>\n",
       "      <td>395</td>\n",
       "      <td>4</td>\n",
       "      <td>1.486784</td>\n",
       "      <td>0</td>\n",
       "      <td>4</td>\n",
       "      <td>95528</td>\n",
       "      <td>0.387990</td>\n",
       "      <td>-2.459084</td>\n",
       "      <td>-0.289899</td>\n",
       "      <td>1.116333</td>\n",
       "      <td>0.224375</td>\n",
       "      <td>-2.425539</td>\n",
       "      <td>72</td>\n",
       "      <td>2020</td>\n",
       "      <td>12</td>\n",
       "      <td>6</td>\n",
       "    </tr>\n",
       "    <tr>\n",
       "      <th>...</th>\n",
       "      <td>...</td>\n",
       "      <td>...</td>\n",
       "      <td>...</td>\n",
       "      <td>...</td>\n",
       "      <td>...</td>\n",
       "      <td>...</td>\n",
       "      <td>...</td>\n",
       "      <td>...</td>\n",
       "      <td>...</td>\n",
       "      <td>...</td>\n",
       "      <td>...</td>\n",
       "      <td>...</td>\n",
       "      <td>...</td>\n",
       "      <td>...</td>\n",
       "      <td>...</td>\n",
       "      <td>...</td>\n",
       "      <td>...</td>\n",
       "    </tr>\n",
       "    <tr>\n",
       "      <th>16979</th>\n",
       "      <td>213163860545705</td>\n",
       "      <td>513</td>\n",
       "      <td>9</td>\n",
       "      <td>-0.255315</td>\n",
       "      <td>1</td>\n",
       "      <td>10</td>\n",
       "      <td>30803</td>\n",
       "      <td>-1.063205</td>\n",
       "      <td>0.560455</td>\n",
       "      <td>-0.291709</td>\n",
       "      <td>-0.255469</td>\n",
       "      <td>-0.872660</td>\n",
       "      <td>0.596770</td>\n",
       "      <td>37</td>\n",
       "      <td>2019</td>\n",
       "      <td>8</td>\n",
       "      <td>6</td>\n",
       "    </tr>\n",
       "    <tr>\n",
       "      <th>16980</th>\n",
       "      <td>2229824890647120</td>\n",
       "      <td>359</td>\n",
       "      <td>4</td>\n",
       "      <td>0.311940</td>\n",
       "      <td>1</td>\n",
       "      <td>25</td>\n",
       "      <td>39572</td>\n",
       "      <td>-1.632612</td>\n",
       "      <td>0.045442</td>\n",
       "      <td>-0.289480</td>\n",
       "      <td>-1.392358</td>\n",
       "      <td>-1.456218</td>\n",
       "      <td>0.090053</td>\n",
       "      <td>65</td>\n",
       "      <td>2019</td>\n",
       "      <td>3</td>\n",
       "      <td>7</td>\n",
       "    </tr>\n",
       "    <tr>\n",
       "      <th>16981</th>\n",
       "      <td>30499715231997</td>\n",
       "      <td>571</td>\n",
       "      <td>11</td>\n",
       "      <td>5.613969</td>\n",
       "      <td>1</td>\n",
       "      <td>45</td>\n",
       "      <td>23117</td>\n",
       "      <td>-0.106194</td>\n",
       "      <td>0.897461</td>\n",
       "      <td>-0.263891</td>\n",
       "      <td>-0.156734</td>\n",
       "      <td>-0.141749</td>\n",
       "      <td>0.827750</td>\n",
       "      <td>85</td>\n",
       "      <td>2019</td>\n",
       "      <td>9</td>\n",
       "      <td>22</td>\n",
       "    </tr>\n",
       "    <tr>\n",
       "      <th>16982</th>\n",
       "      <td>503851367360</td>\n",
       "      <td>400</td>\n",
       "      <td>12</td>\n",
       "      <td>5.397766</td>\n",
       "      <td>1</td>\n",
       "      <td>27</td>\n",
       "      <td>28530</td>\n",
       "      <td>-0.625834</td>\n",
       "      <td>0.933701</td>\n",
       "      <td>-0.269282</td>\n",
       "      <td>-1.414367</td>\n",
       "      <td>-0.535132</td>\n",
       "      <td>0.920086</td>\n",
       "      <td>66</td>\n",
       "      <td>2020</td>\n",
       "      <td>7</td>\n",
       "      <td>22</td>\n",
       "    </tr>\n",
       "    <tr>\n",
       "      <th>16983</th>\n",
       "      <td>3589289942931264</td>\n",
       "      <td>97</td>\n",
       "      <td>6</td>\n",
       "      <td>-0.193069</td>\n",
       "      <td>0</td>\n",
       "      <td>41</td>\n",
       "      <td>57374</td>\n",
       "      <td>1.029857</td>\n",
       "      <td>-0.536540</td>\n",
       "      <td>-0.292549</td>\n",
       "      <td>1.353799</td>\n",
       "      <td>1.089932</td>\n",
       "      <td>-0.577957</td>\n",
       "      <td>51</td>\n",
       "      <td>2020</td>\n",
       "      <td>12</td>\n",
       "      <td>13</td>\n",
       "    </tr>\n",
       "  </tbody>\n",
       "</table>\n",
       "<p>16984 rows × 17 columns</p>\n",
       "</div>"
      ],
      "text/plain": [
       "                 cc_num  merchant  category       amt  gender  state    zip  \\\n",
       "0         4079773899158       208         2 -0.312202       1     13  83643   \n",
       "1      3576281490078437       325         8  4.091703       1     15  47470   \n",
       "2      3529597810116815       227         8 -0.424044       0     38  17060   \n",
       "3       213157767990030       304        11  6.785967       0     50  82901   \n",
       "4       213180742685905       395         4  1.486784       0      4  95528   \n",
       "...                 ...       ...       ...       ...     ...    ...    ...   \n",
       "16979   213163860545705       513         9 -0.255315       1     10  30803   \n",
       "16980  2229824890647120       359         4  0.311940       1     25  39572   \n",
       "16981    30499715231997       571        11  5.613969       1     45  23117   \n",
       "16982      503851367360       400        12  5.397766       1     27  28530   \n",
       "16983  3589289942931264        97         6 -0.193069       0     41  57374   \n",
       "\n",
       "            lat      long  city_pop  unix_time  merch_lat  merch_long  age  \\\n",
       "0      1.199391 -1.905867 -0.293736  -1.055007   1.039066   -1.972841   58   \n",
       "1      0.045491  0.262563 -0.287915  -1.015028  -0.122745    0.248130   33   \n",
       "2      0.380290  0.896110 -0.289745  -0.813375   0.251476    0.824554   37   \n",
       "3      0.604511 -1.381173 -0.201531  -0.397614   0.538835   -1.427778   39   \n",
       "4      0.387990 -2.459084 -0.289899   1.116333   0.224375   -2.425539   72   \n",
       "...         ...       ...       ...        ...        ...         ...  ...   \n",
       "16979 -1.063205  0.560455 -0.291709  -0.255469  -0.872660    0.596770   37   \n",
       "16980 -1.632612  0.045442 -0.289480  -1.392358  -1.456218    0.090053   65   \n",
       "16981 -0.106194  0.897461 -0.263891  -0.156734  -0.141749    0.827750   85   \n",
       "16982 -0.625834  0.933701 -0.269282  -1.414367  -0.535132    0.920086   66   \n",
       "16983  1.029857 -0.536540 -0.292549   1.353799   1.089932   -0.577957   51   \n",
       "\n",
       "       trans_year  trans_month  trans_hour  \n",
       "0            2019            4          10  \n",
       "1            2020            8          23  \n",
       "2            2019            6           8  \n",
       "3            2019            8           3  \n",
       "4            2020           12           6  \n",
       "...           ...          ...         ...  \n",
       "16979        2019            8           6  \n",
       "16980        2019            3           7  \n",
       "16981        2019            9          22  \n",
       "16982        2020            7          22  \n",
       "16983        2020           12          13  \n",
       "\n",
       "[16984 rows x 17 columns]"
      ]
     },
     "execution_count": 76,
     "metadata": {},
     "output_type": "execute_result"
    }
   ],
   "source": [
    "X_train.select_dtypes(include=['number'])"
   ]
  },
  {
   "cell_type": "code",
   "execution_count": 77,
   "id": "120dacd8",
   "metadata": {},
   "outputs": [
    {
     "data": {
      "text/plain": [
       "0        1\n",
       "1        1\n",
       "2        0\n",
       "3        1\n",
       "4        1\n",
       "        ..\n",
       "16979    0\n",
       "16980    0\n",
       "16981    1\n",
       "16982    1\n",
       "16983    0\n",
       "Name: is_fraud, Length: 16984, dtype: int64"
      ]
     },
     "execution_count": 77,
     "metadata": {},
     "output_type": "execute_result"
    }
   ],
   "source": [
    "y_train"
   ]
  },
  {
   "cell_type": "code",
   "execution_count": 78,
   "id": "9ca21979",
   "metadata": {},
   "outputs": [
    {
     "data": {
      "text/plain": [
       "(array([8492.,    0.,    0.,    0.,    0.,    0.,    0.,    0.,    0.,\n",
       "        8492.]),\n",
       " array([0. , 0.1, 0.2, 0.3, 0.4, 0.5, 0.6, 0.7, 0.8, 0.9, 1. ]),\n",
       " <BarContainer object of 10 artists>)"
      ]
     },
     "execution_count": 78,
     "metadata": {},
     "output_type": "execute_result"
    },
    {
     "data": {
      "image/png": "[encoded data removed]",
      "text/plain": [
       "<Figure size 432x288 with 1 Axes>"
      ]
     },
     "metadata": {
      "needs_background": "light"
     },
     "output_type": "display_data"
    }
   ],
   "source": [
    "plt.hist(y_train)"
   ]
  },
  {
   "cell_type": "code",
   "execution_count": 79,
   "id": "85ed0992",
   "metadata": {},
   "outputs": [],
   "source": [
    "class TransactionDataset(Dataset):\n",
    "    def __init__(self, data, labels):\n",
    "        self.data = tc.tensor(data.values, dtype=tc.float32)\n",
    "        self.labels = tc.tensor(labels.values, dtype=tc.float32)\n",
    "        self.length = len(data)\n",
    "        \n",
    "    def __getitem__(self, index):\n",
    "        return self.data[index], self.labels[index]\n",
    "\n",
    "    def __len__(self):\n",
    "        return self.length"
   ]
  },
  {
   "cell_type": "code",
   "execution_count": 80,
   "id": "9db2c956",
   "metadata": {},
   "outputs": [],
   "source": [
    "train_dataset = TransactionDataset(X_train, y_train)\n",
    "test_dataset = TransactionDataset(X_test, y_test)\n",
    "\n",
    "train_loader = DataLoader(train_dataset, batch_size=32, shuffle=True)\n",
    "test_loader = DataLoader(test_dataset, batch_size=32, shuffle=False)"
   ]
  },
  {
   "cell_type": "code",
   "execution_count": 81,
   "id": "3e783be5",
   "metadata": {},
   "outputs": [
    {
     "name": "stdout",
     "output_type": "stream",
     "text": [
      "Completed: 0%\n",
      "Completed: 5%\n",
      "Completed: 10%\n",
      "Completed: 15%\n",
      "Completed: 20%\n",
      "Completed: 25%\n",
      "Completed: 30%\n",
      "Completed: 35%\n",
      "Completed: 40%\n",
      "Completed: 45%\n",
      "Completed: 50%\n",
      "Completed: 55%\n",
      "Completed: 60%\n",
      "Completed: 65%\n",
      "Completed: 70%\n",
      "Completed: 75%\n",
      "Completed: 80%\n",
      "Completed: 85%\n",
      "Completed: 90%\n",
      "Completed: 95%\n"
     ]
    }
   ],
   "source": [
    "class MLPBinaryClassifier(nn.Module):\n",
    "    def __init__(self, in_dim=4, hide_dim=64):\n",
    "        super(MLPBinaryClassifier, self).__init__()\n",
    "        self._features = in_dim\n",
    "        self.weights_hide = tc.nn.Parameter(tc.randn((in_dim, hide_dim)))\n",
    "        self.bias_hide = tc.nn.Parameter(tc.zeros((hide_dim, ), dtype=tc.float32) + 0.1)\n",
    "        self.weights_clf = tc.nn.Parameter(tc.randn((hide_dim, 1)))\n",
    "        self.bias_clf = tc.nn.Parameter(tc.zeros((1, ), dtype=tc.float32) + 0.1)\n",
    "\n",
    "    def forward(self, x):\n",
    "        # Check input dimensions\n",
    "        assert len(x.shape) == 2 and x.shape[1] == self._features\n",
    "        \n",
    "        # Linear transformation on input to produce hidden states\n",
    "        hidden_states = tc.mm(x, self.weights_hide) + self.bias_hide\n",
    "        \n",
    "        # Apply non-linear activation (ReLU) to hidden states\n",
    "        act_hidden_states = tc.relu(hidden_states)\n",
    "        \n",
    "        # Linear transformation on activated hidden states to produce logits\n",
    "        logits = tc.mm(act_hidden_states, self.weights_clf) + self.bias_clf\n",
    "        \n",
    "        # Apply sigmoid activation to logits for binary classification output\n",
    "        return tc.sigmoid(logits)\n",
    "\n",
    "in_dim = X_train.shape[-1]\n",
    "model = MLPBinaryClassifier(in_dim = in_dim)\n",
    "\n",
    "model_loss = nn.BCELoss() #torch.nn.functional.nll_loss(output[idx_train], labels[idx_train])\n",
    "optimizer = optim.Adam(model.parameters(), lr = 0.005)\n",
    "\n",
    "epochs = 100\n",
    "for epoch in range(epochs):\n",
    "    if epoch % 5 == 0:\n",
    "        print(f\"Completed: {epoch}%\")\n",
    "    model.train()\n",
    "    for batch, (X_batch, y_batch) in enumerate(train_loader):\n",
    "        optimizer.zero_grad()\n",
    "        y_pred = model(X_batch).squeeze()\n",
    "        loss = model_loss(y_pred, y_batch)\n",
    "        loss.backward()\n",
    "        optimizer.step()"
   ]
  },
  {
   "cell_type": "code",
   "execution_count": 82,
   "id": "b06aefbe",
   "metadata": {},
   "outputs": [
    {
     "name": "stdout",
     "output_type": "stream",
     "text": [
      "The accuracy of the model is: 99.48\n"
     ]
    }
   ],
   "source": [
    "model.eval()\n",
    "y_pred = []\n",
    "y_true = []\n",
    "\n",
    "with tc.no_grad():\n",
    "    for X_batch, y_batch in test_loader:\n",
    "        y_pred_batch = model(X_batch)\n",
    "        y_pred.extend(y_pred_batch.round().detach().numpy())\n",
    "        y_true.extend(y_batch.detach().numpy())\n",
    "        \n",
    "accuracy = accuracy_score(y_true, y_pred)\n",
    "print(f\"The accuracy of the model is: {round(accuracy, 4) * 100}\")"
   ]
  },
  {
   "cell_type": "code",
   "execution_count": 83,
   "id": "085cdc64",
   "metadata": {},
   "outputs": [
    {
     "name": "stdout",
     "output_type": "stream",
     "text": [
      "Classification Report:\n"
     ]
    },
    {
     "name": "stderr",
     "output_type": "stream",
     "text": [
      "/Users/nachikethinge/Library/Python/3.9/lib/python/site-packages/sklearn/metrics/_classification.py:1334: UndefinedMetricWarning: Precision and F-score are ill-defined and being set to 0.0 in labels with no predicted samples. Use `zero_division` parameter to control this behavior.\n",
      "  _warn_prf(average, modifier, msg_start, len(result))\n",
      "/Users/nachikethinge/Library/Python/3.9/lib/python/site-packages/sklearn/metrics/_classification.py:1334: UndefinedMetricWarning: Precision and F-score are ill-defined and being set to 0.0 in labels with no predicted samples. Use `zero_division` parameter to control this behavior.\n",
      "  _warn_prf(average, modifier, msg_start, len(result))\n",
      "/Users/nachikethinge/Library/Python/3.9/lib/python/site-packages/sklearn/metrics/_classification.py:1334: UndefinedMetricWarning: Precision and F-score are ill-defined and being set to 0.0 in labels with no predicted samples. Use `zero_division` parameter to control this behavior.\n",
      "  _warn_prf(average, modifier, msg_start, len(result))\n"
     ]
    },
    {
     "name": "stdout",
     "output_type": "stream",
     "text": [
      "              precision    recall  f1-score   support\n",
      "\n",
      "         0.0       0.99      1.00      1.00    221130\n",
      "         1.0       0.00      0.00      0.00      1159\n",
      "\n",
      "    accuracy                           0.99    222289\n",
      "   macro avg       0.50      0.50      0.50    222289\n",
      "weighted avg       0.99      0.99      0.99    222289\n",
      "\n",
      "Confusion Matrix:\n",
      "[[221130      0]\n",
      " [  1159      0]]\n"
     ]
    }
   ],
   "source": [
    "from sklearn.metrics import classification_report, confusion_matrix\n",
    "\n",
    "print(\"Classification Report:\")\n",
    "print(classification_report(y_true, y_pred))\n",
    "\n",
    "print(\"Confusion Matrix:\")\n",
    "print(confusion_matrix(y_true, y_pred))"
   ]
  },
  {
   "cell_type": "code",
   "execution_count": 87,
   "id": "ca49c279",
   "metadata": {},
   "outputs": [
    {
     "data": {
      "text/plain": [
       "8492"
      ]
     },
     "execution_count": 87,
     "metadata": {},
     "output_type": "execute_result"
    }
   ],
   "source": [
    "len(y_train[y_train == 1])"
   ]
  },
  {
   "cell_type": "code",
   "execution_count": 88,
   "id": "a8808254",
   "metadata": {},
   "outputs": [
    {
     "data": {
      "text/plain": [
       "8492"
      ]
     },
     "execution_count": 88,
     "metadata": {},
     "output_type": "execute_result"
    }
   ],
   "source": [
    "len(y_train[y_train == 0])"
   ]
  },
  {
   "cell_type": "code",
   "execution_count": 89,
   "id": "ab82f2ab",
   "metadata": {},
   "outputs": [
    {
     "data": {
      "text/plain": [
       "1159"
      ]
     },
     "execution_count": 89,
     "metadata": {},
     "output_type": "execute_result"
    }
   ],
   "source": [
    "len(y_test[y_test == 1])"
   ]
  },
  {
   "cell_type": "code",
   "execution_count": null,
   "id": "8c1ce78a",
   "metadata": {},
   "outputs": [],
   "source": []
  }
 ],
 "metadata": {
  "kernelspec": {
   "display_name": "Python 3 (ipykernel)",
   "language": "python",
   "name": "python3"
  },
  "language_info": {
   "codemirror_mode": {
    "name": "ipython",
    "version": 3
   },
   "file_extension": ".py",
   "mimetype": "text/x-python",
   "name": "python",
   "nbconvert_exporter": "python",
   "pygments_lexer": "ipython3",
   "version": "3.9.0"
  }
 },
 "nbformat": 4,
 "nbformat_minor": 5
}
