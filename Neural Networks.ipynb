{
 "cells": [
  {
   "cell_type": "code",
   "execution_count": 128,
   "id": "93698a4c",
   "metadata": {},
   "outputs": [],
   "source": [
    "import pandas as pd\n",
    "import numpy as np\n",
    "import matplotlib.pyplot as plt\n",
    "import torch as tc\n",
    "from torch.utils.data import Dataset, DataLoader\n",
    "import torch.nn as nn\n",
    "import torch.optim as optim\n",
    "from sklearn.metrics import accuracy_score"
   ]
  },
  {
   "cell_type": "code",
   "execution_count": 129,
   "id": "b885daa3",
   "metadata": {},
   "outputs": [],
   "source": [
    "X_train = pd.read_csv(\"Data/X_train.csv\")\n",
    "y_train = pd.read_csv(\"Data/y_train.csv\")\n",
    "\n",
    "X_test = pd.read_csv(\"Data/X_test.csv\")\n",
    "y_test = pd.read_csv(\"Data/y_test.csv\")"
   ]
  },
  {
   "cell_type": "code",
   "execution_count": 130,
   "id": "30222212",
   "metadata": {},
   "outputs": [],
   "source": [
    "y_train = y_train['is_fraud']"
   ]
  },
  {
   "cell_type": "code",
   "execution_count": 131,
   "id": "c1df53e5",
   "metadata": {},
   "outputs": [],
   "source": [
    "y_test = y_test['is_fraud']"
   ]
  },
  {
   "cell_type": "code",
   "execution_count": 132,
   "id": "d27c1eef",
   "metadata": {},
   "outputs": [],
   "source": [
    "X_train = X_train.drop(['Unnamed: 0.1', 'Unnamed: 0'], axis = 1)\n",
    "X_test = X_test.drop(['Unnamed: 0.1', 'Unnamed: 0'], axis = 1)"
   ]
  },
  {
   "cell_type": "code",
   "execution_count": 133,
   "id": "727231c3",
   "metadata": {},
   "outputs": [
    {
     "data": {
      "text/html": [
       "<div>\n",
       "<style scoped>\n",
       "    .dataframe tbody tr th:only-of-type {\n",
       "        vertical-align: middle;\n",
       "    }\n",
       "\n",
       "    .dataframe tbody tr th {\n",
       "        vertical-align: top;\n",
       "    }\n",
       "\n",
       "    .dataframe thead th {\n",
       "        text-align: right;\n",
       "    }\n",
       "</style>\n",
       "<table border=\"1\" class=\"dataframe\">\n",
       "  <thead>\n",
       "    <tr style=\"text-align: right;\">\n",
       "      <th></th>\n",
       "      <th>cc_num</th>\n",
       "      <th>merchant</th>\n",
       "      <th>category</th>\n",
       "      <th>amt</th>\n",
       "      <th>gender</th>\n",
       "      <th>state</th>\n",
       "      <th>zip</th>\n",
       "      <th>lat</th>\n",
       "      <th>long</th>\n",
       "      <th>city_pop</th>\n",
       "      <th>unix_time</th>\n",
       "      <th>merch_lat</th>\n",
       "      <th>merch_long</th>\n",
       "      <th>age</th>\n",
       "      <th>trans_year</th>\n",
       "      <th>trans_month</th>\n",
       "      <th>trans_hour</th>\n",
       "    </tr>\n",
       "  </thead>\n",
       "  <tbody>\n",
       "    <tr>\n",
       "      <th>0</th>\n",
       "      <td>375767678113375</td>\n",
       "      <td>553</td>\n",
       "      <td>7</td>\n",
       "      <td>0.534376</td>\n",
       "      <td>1</td>\n",
       "      <td>45</td>\n",
       "      <td>22853</td>\n",
       "      <td>0.021667</td>\n",
       "      <td>0.832515</td>\n",
       "      <td>-0.279701</td>\n",
       "      <td>-0.930987</td>\n",
       "      <td>0.147173</td>\n",
       "      <td>0.772643</td>\n",
       "      <td>61</td>\n",
       "      <td>2019</td>\n",
       "      <td>5</td>\n",
       "      <td>21</td>\n",
       "    </tr>\n",
       "    <tr>\n",
       "      <th>1</th>\n",
       "      <td>30197398657930</td>\n",
       "      <td>567</td>\n",
       "      <td>0</td>\n",
       "      <td>-0.027951</td>\n",
       "      <td>0</td>\n",
       "      <td>27</td>\n",
       "      <td>27522</td>\n",
       "      <td>-0.477800</td>\n",
       "      <td>0.841535</td>\n",
       "      <td>-0.253313</td>\n",
       "      <td>1.718901</td>\n",
       "      <td>-0.579549</td>\n",
       "      <td>0.807265</td>\n",
       "      <td>36</td>\n",
       "      <td>2020</td>\n",
       "      <td>6</td>\n",
       "      <td>17</td>\n",
       "    </tr>\n",
       "    <tr>\n",
       "      <th>2</th>\n",
       "      <td>3511378610369890</td>\n",
       "      <td>598</td>\n",
       "      <td>9</td>\n",
       "      <td>-0.423795</td>\n",
       "      <td>1</td>\n",
       "      <td>1</td>\n",
       "      <td>35811</td>\n",
       "      <td>-0.740517</td>\n",
       "      <td>0.267644</td>\n",
       "      <td>0.335656</td>\n",
       "      <td>0.406551</td>\n",
       "      <td>-0.919144</td>\n",
       "      <td>0.204254</td>\n",
       "      <td>50</td>\n",
       "      <td>2019</td>\n",
       "      <td>12</td>\n",
       "      <td>16</td>\n",
       "    </tr>\n",
       "    <tr>\n",
       "      <th>3</th>\n",
       "      <td>2222001896600109</td>\n",
       "      <td>136</td>\n",
       "      <td>10</td>\n",
       "      <td>-0.283696</td>\n",
       "      <td>0</td>\n",
       "      <td>14</td>\n",
       "      <td>62067</td>\n",
       "      <td>0.077658</td>\n",
       "      <td>0.019226</td>\n",
       "      <td>-0.286212</td>\n",
       "      <td>-0.997695</td>\n",
       "      <td>0.004634</td>\n",
       "      <td>-0.006412</td>\n",
       "      <td>51</td>\n",
       "      <td>2019</td>\n",
       "      <td>5</td>\n",
       "      <td>23</td>\n",
       "    </tr>\n",
       "    <tr>\n",
       "      <th>4</th>\n",
       "      <td>4736845434667908128</td>\n",
       "      <td>450</td>\n",
       "      <td>0</td>\n",
       "      <td>-0.159379</td>\n",
       "      <td>0</td>\n",
       "      <td>34</td>\n",
       "      <td>12910</td>\n",
       "      <td>1.249846</td>\n",
       "      <td>1.205425</td>\n",
       "      <td>-0.287050</td>\n",
       "      <td>1.382876</td>\n",
       "      <td>1.073523</td>\n",
       "      <td>1.181190</td>\n",
       "      <td>70</td>\n",
       "      <td>2020</td>\n",
       "      <td>4</td>\n",
       "      <td>18</td>\n",
       "    </tr>\n",
       "  </tbody>\n",
       "</table>\n",
       "</div>"
      ],
      "text/plain": [
       "                cc_num  merchant  category       amt  gender  state    zip  \\\n",
       "0      375767678113375       553         7  0.534376       1     45  22853   \n",
       "1       30197398657930       567         0 -0.027951       0     27  27522   \n",
       "2     3511378610369890       598         9 -0.423795       1      1  35811   \n",
       "3     2222001896600109       136        10 -0.283696       0     14  62067   \n",
       "4  4736845434667908128       450         0 -0.159379       0     34  12910   \n",
       "\n",
       "        lat      long  city_pop  unix_time  merch_lat  merch_long  age  \\\n",
       "0  0.021667  0.832515 -0.279701  -0.930987   0.147173    0.772643   61   \n",
       "1 -0.477800  0.841535 -0.253313   1.718901  -0.579549    0.807265   36   \n",
       "2 -0.740517  0.267644  0.335656   0.406551  -0.919144    0.204254   50   \n",
       "3  0.077658  0.019226 -0.286212  -0.997695   0.004634   -0.006412   51   \n",
       "4  1.249846  1.205425 -0.287050   1.382876   1.073523    1.181190   70   \n",
       "\n",
       "   trans_year  trans_month  trans_hour  \n",
       "0        2019            5          21  \n",
       "1        2020            6          17  \n",
       "2        2019           12          16  \n",
       "3        2019            5          23  \n",
       "4        2020            4          18  "
      ]
     },
     "execution_count": 133,
     "metadata": {},
     "output_type": "execute_result"
    }
   ],
   "source": [
    "X_train.head()"
   ]
  },
  {
   "cell_type": "code",
   "execution_count": 134,
   "id": "5006d82a",
   "metadata": {},
   "outputs": [
    {
     "data": {
      "text/plain": [
       "17"
      ]
     },
     "execution_count": 134,
     "metadata": {},
     "output_type": "execute_result"
    }
   ],
   "source": [
    "len(X_train.columns)"
   ]
  },
  {
   "cell_type": "code",
   "execution_count": 135,
   "id": "b5b8e4ce",
   "metadata": {},
   "outputs": [
    {
     "data": {
      "text/html": [
       "<div>\n",
       "<style scoped>\n",
       "    .dataframe tbody tr th:only-of-type {\n",
       "        vertical-align: middle;\n",
       "    }\n",
       "\n",
       "    .dataframe tbody tr th {\n",
       "        vertical-align: top;\n",
       "    }\n",
       "\n",
       "    .dataframe thead th {\n",
       "        text-align: right;\n",
       "    }\n",
       "</style>\n",
       "<table border=\"1\" class=\"dataframe\">\n",
       "  <thead>\n",
       "    <tr style=\"text-align: right;\">\n",
       "      <th></th>\n",
       "      <th>cc_num</th>\n",
       "      <th>merchant</th>\n",
       "      <th>category</th>\n",
       "      <th>amt</th>\n",
       "      <th>gender</th>\n",
       "      <th>state</th>\n",
       "      <th>zip</th>\n",
       "      <th>lat</th>\n",
       "      <th>long</th>\n",
       "      <th>city_pop</th>\n",
       "      <th>unix_time</th>\n",
       "      <th>merch_lat</th>\n",
       "      <th>merch_long</th>\n",
       "      <th>age</th>\n",
       "      <th>trans_year</th>\n",
       "      <th>trans_month</th>\n",
       "      <th>trans_hour</th>\n",
       "    </tr>\n",
       "  </thead>\n",
       "  <tbody>\n",
       "    <tr>\n",
       "      <th>0</th>\n",
       "      <td>375767678113375</td>\n",
       "      <td>553</td>\n",
       "      <td>7</td>\n",
       "      <td>0.534376</td>\n",
       "      <td>1</td>\n",
       "      <td>45</td>\n",
       "      <td>22853</td>\n",
       "      <td>0.021667</td>\n",
       "      <td>0.832515</td>\n",
       "      <td>-0.279701</td>\n",
       "      <td>-0.930987</td>\n",
       "      <td>0.147173</td>\n",
       "      <td>0.772643</td>\n",
       "      <td>61</td>\n",
       "      <td>2019</td>\n",
       "      <td>5</td>\n",
       "      <td>21</td>\n",
       "    </tr>\n",
       "    <tr>\n",
       "      <th>1</th>\n",
       "      <td>30197398657930</td>\n",
       "      <td>567</td>\n",
       "      <td>0</td>\n",
       "      <td>-0.027951</td>\n",
       "      <td>0</td>\n",
       "      <td>27</td>\n",
       "      <td>27522</td>\n",
       "      <td>-0.477800</td>\n",
       "      <td>0.841535</td>\n",
       "      <td>-0.253313</td>\n",
       "      <td>1.718901</td>\n",
       "      <td>-0.579549</td>\n",
       "      <td>0.807265</td>\n",
       "      <td>36</td>\n",
       "      <td>2020</td>\n",
       "      <td>6</td>\n",
       "      <td>17</td>\n",
       "    </tr>\n",
       "    <tr>\n",
       "      <th>2</th>\n",
       "      <td>3511378610369890</td>\n",
       "      <td>598</td>\n",
       "      <td>9</td>\n",
       "      <td>-0.423795</td>\n",
       "      <td>1</td>\n",
       "      <td>1</td>\n",
       "      <td>35811</td>\n",
       "      <td>-0.740517</td>\n",
       "      <td>0.267644</td>\n",
       "      <td>0.335656</td>\n",
       "      <td>0.406551</td>\n",
       "      <td>-0.919144</td>\n",
       "      <td>0.204254</td>\n",
       "      <td>50</td>\n",
       "      <td>2019</td>\n",
       "      <td>12</td>\n",
       "      <td>16</td>\n",
       "    </tr>\n",
       "    <tr>\n",
       "      <th>3</th>\n",
       "      <td>2222001896600109</td>\n",
       "      <td>136</td>\n",
       "      <td>10</td>\n",
       "      <td>-0.283696</td>\n",
       "      <td>0</td>\n",
       "      <td>14</td>\n",
       "      <td>62067</td>\n",
       "      <td>0.077658</td>\n",
       "      <td>0.019226</td>\n",
       "      <td>-0.286212</td>\n",
       "      <td>-0.997695</td>\n",
       "      <td>0.004634</td>\n",
       "      <td>-0.006412</td>\n",
       "      <td>51</td>\n",
       "      <td>2019</td>\n",
       "      <td>5</td>\n",
       "      <td>23</td>\n",
       "    </tr>\n",
       "    <tr>\n",
       "      <th>4</th>\n",
       "      <td>4736845434667908128</td>\n",
       "      <td>450</td>\n",
       "      <td>0</td>\n",
       "      <td>-0.159379</td>\n",
       "      <td>0</td>\n",
       "      <td>34</td>\n",
       "      <td>12910</td>\n",
       "      <td>1.249846</td>\n",
       "      <td>1.205425</td>\n",
       "      <td>-0.287050</td>\n",
       "      <td>1.382876</td>\n",
       "      <td>1.073523</td>\n",
       "      <td>1.181190</td>\n",
       "      <td>70</td>\n",
       "      <td>2020</td>\n",
       "      <td>4</td>\n",
       "      <td>18</td>\n",
       "    </tr>\n",
       "    <tr>\n",
       "      <th>...</th>\n",
       "      <td>...</td>\n",
       "      <td>...</td>\n",
       "      <td>...</td>\n",
       "      <td>...</td>\n",
       "      <td>...</td>\n",
       "      <td>...</td>\n",
       "      <td>...</td>\n",
       "      <td>...</td>\n",
       "      <td>...</td>\n",
       "      <td>...</td>\n",
       "      <td>...</td>\n",
       "      <td>...</td>\n",
       "      <td>...</td>\n",
       "      <td>...</td>\n",
       "      <td>...</td>\n",
       "      <td>...</td>\n",
       "      <td>...</td>\n",
       "    </tr>\n",
       "    <tr>\n",
       "      <th>155596</th>\n",
       "      <td>4956828990005111019</td>\n",
       "      <td>660</td>\n",
       "      <td>7</td>\n",
       "      <td>-0.352435</td>\n",
       "      <td>1</td>\n",
       "      <td>31</td>\n",
       "      <td>7208</td>\n",
       "      <td>0.421032</td>\n",
       "      <td>1.163046</td>\n",
       "      <td>0.119695</td>\n",
       "      <td>-0.461462</td>\n",
       "      <td>0.492532</td>\n",
       "      <td>1.120964</td>\n",
       "      <td>43</td>\n",
       "      <td>2019</td>\n",
       "      <td>7</td>\n",
       "      <td>15</td>\n",
       "    </tr>\n",
       "    <tr>\n",
       "      <th>155597</th>\n",
       "      <td>344709867813900</td>\n",
       "      <td>631</td>\n",
       "      <td>3</td>\n",
       "      <td>-0.029885</td>\n",
       "      <td>0</td>\n",
       "      <td>9</td>\n",
       "      <td>33872</td>\n",
       "      <td>-2.180407</td>\n",
       "      <td>0.635154</td>\n",
       "      <td>-0.125811</td>\n",
       "      <td>-0.288925</td>\n",
       "      <td>-2.338692</td>\n",
       "      <td>0.697607</td>\n",
       "      <td>37</td>\n",
       "      <td>2019</td>\n",
       "      <td>8</td>\n",
       "      <td>7</td>\n",
       "    </tr>\n",
       "    <tr>\n",
       "      <th>155598</th>\n",
       "      <td>3595111028444131</td>\n",
       "      <td>408</td>\n",
       "      <td>10</td>\n",
       "      <td>-0.009051</td>\n",
       "      <td>1</td>\n",
       "      <td>24</td>\n",
       "      <td>63829</td>\n",
       "      <td>-0.491394</td>\n",
       "      <td>-0.004678</td>\n",
       "      <td>-0.290454</td>\n",
       "      <td>-0.852434</td>\n",
       "      <td>-0.449103</td>\n",
       "      <td>-0.041975</td>\n",
       "      <td>66</td>\n",
       "      <td>2019</td>\n",
       "      <td>5</td>\n",
       "      <td>13</td>\n",
       "    </tr>\n",
       "    <tr>\n",
       "      <th>155599</th>\n",
       "      <td>577588686219</td>\n",
       "      <td>648</td>\n",
       "      <td>1</td>\n",
       "      <td>0.259668</td>\n",
       "      <td>1</td>\n",
       "      <td>38</td>\n",
       "      <td>15686</td>\n",
       "      <td>0.409330</td>\n",
       "      <td>0.782890</td>\n",
       "      <td>-0.290944</td>\n",
       "      <td>0.519864</td>\n",
       "      <td>0.335999</td>\n",
       "      <td>0.824480</td>\n",
       "      <td>26</td>\n",
       "      <td>2019</td>\n",
       "      <td>12</td>\n",
       "      <td>12</td>\n",
       "    </tr>\n",
       "    <tr>\n",
       "      <th>155600</th>\n",
       "      <td>4969856774088583</td>\n",
       "      <td>151</td>\n",
       "      <td>0</td>\n",
       "      <td>0.054823</td>\n",
       "      <td>0</td>\n",
       "      <td>18</td>\n",
       "      <td>70003</td>\n",
       "      <td>-1.682515</td>\n",
       "      <td>0.000853</td>\n",
       "      <td>0.159767</td>\n",
       "      <td>-0.874855</td>\n",
       "      <td>-1.811035</td>\n",
       "      <td>0.044293</td>\n",
       "      <td>72</td>\n",
       "      <td>2019</td>\n",
       "      <td>5</td>\n",
       "      <td>5</td>\n",
       "    </tr>\n",
       "  </tbody>\n",
       "</table>\n",
       "<p>155601 rows × 17 columns</p>\n",
       "</div>"
      ],
      "text/plain": [
       "                     cc_num  merchant  category       amt  gender  state  \\\n",
       "0           375767678113375       553         7  0.534376       1     45   \n",
       "1            30197398657930       567         0 -0.027951       0     27   \n",
       "2          3511378610369890       598         9 -0.423795       1      1   \n",
       "3          2222001896600109       136        10 -0.283696       0     14   \n",
       "4       4736845434667908128       450         0 -0.159379       0     34   \n",
       "...                     ...       ...       ...       ...     ...    ...   \n",
       "155596  4956828990005111019       660         7 -0.352435       1     31   \n",
       "155597      344709867813900       631         3 -0.029885       0      9   \n",
       "155598     3595111028444131       408        10 -0.009051       1     24   \n",
       "155599         577588686219       648         1  0.259668       1     38   \n",
       "155600     4969856774088583       151         0  0.054823       0     18   \n",
       "\n",
       "          zip       lat      long  city_pop  unix_time  merch_lat  merch_long  \\\n",
       "0       22853  0.021667  0.832515 -0.279701  -0.930987   0.147173    0.772643   \n",
       "1       27522 -0.477800  0.841535 -0.253313   1.718901  -0.579549    0.807265   \n",
       "2       35811 -0.740517  0.267644  0.335656   0.406551  -0.919144    0.204254   \n",
       "3       62067  0.077658  0.019226 -0.286212  -0.997695   0.004634   -0.006412   \n",
       "4       12910  1.249846  1.205425 -0.287050   1.382876   1.073523    1.181190   \n",
       "...       ...       ...       ...       ...        ...        ...         ...   \n",
       "155596   7208  0.421032  1.163046  0.119695  -0.461462   0.492532    1.120964   \n",
       "155597  33872 -2.180407  0.635154 -0.125811  -0.288925  -2.338692    0.697607   \n",
       "155598  63829 -0.491394 -0.004678 -0.290454  -0.852434  -0.449103   -0.041975   \n",
       "155599  15686  0.409330  0.782890 -0.290944   0.519864   0.335999    0.824480   \n",
       "155600  70003 -1.682515  0.000853  0.159767  -0.874855  -1.811035    0.044293   \n",
       "\n",
       "        age  trans_year  trans_month  trans_hour  \n",
       "0        61        2019            5          21  \n",
       "1        36        2020            6          17  \n",
       "2        50        2019           12          16  \n",
       "3        51        2019            5          23  \n",
       "4        70        2020            4          18  \n",
       "...     ...         ...          ...         ...  \n",
       "155596   43        2019            7          15  \n",
       "155597   37        2019            8           7  \n",
       "155598   66        2019            5          13  \n",
       "155599   26        2019           12          12  \n",
       "155600   72        2019            5           5  \n",
       "\n",
       "[155601 rows x 17 columns]"
      ]
     },
     "execution_count": 135,
     "metadata": {},
     "output_type": "execute_result"
    }
   ],
   "source": [
    "X_train.select_dtypes(include=['number'])"
   ]
  },
  {
   "cell_type": "code",
   "execution_count": 136,
   "id": "120dacd8",
   "metadata": {},
   "outputs": [
    {
     "data": {
      "text/plain": [
       "0         0\n",
       "1         0\n",
       "2         0\n",
       "3         0\n",
       "4         0\n",
       "         ..\n",
       "155596    0\n",
       "155597    0\n",
       "155598    0\n",
       "155599    0\n",
       "155600    0\n",
       "Name: is_fraud, Length: 155601, dtype: int64"
      ]
     },
     "execution_count": 136,
     "metadata": {},
     "output_type": "execute_result"
    }
   ],
   "source": [
    "y_train"
   ]
  },
  {
   "cell_type": "code",
   "execution_count": 137,
   "id": "9ca21979",
   "metadata": {},
   "outputs": [
    {
     "data": {
      "text/plain": [
       "(array([154713.,      0.,      0.,      0.,      0.,      0.,      0.,\n",
       "             0.,      0.,    888.]),\n",
       " array([0. , 0.1, 0.2, 0.3, 0.4, 0.5, 0.6, 0.7, 0.8, 0.9, 1. ]),\n",
       " <BarContainer object of 10 artists>)"
      ]
     },
     "execution_count": 137,
     "metadata": {},
     "output_type": "execute_result"
    },
    {
     "data": {
      "image/png": "[encoded data removed]",
      "text/plain": [
       "<Figure size 432x288 with 1 Axes>"
      ]
     },
     "metadata": {
      "needs_background": "light"
     },
     "output_type": "display_data"
    }
   ],
   "source": [
    "plt.hist(y_train)"
   ]
  },
  {
   "cell_type": "code",
   "execution_count": 138,
   "id": "85ed0992",
   "metadata": {},
   "outputs": [],
   "source": [
    "class TransactionDataset(Dataset):\n",
    "    def __init__(self, data, labels):\n",
    "        self.data = tc.tensor(data.values, dtype=tc.float32)\n",
    "        self.labels = tc.tensor(labels.values, dtype=tc.float32)\n",
    "        self.length = len(data)\n",
    "        \n",
    "    def __getitem__(self, index):\n",
    "        return self.data[index], self.labels[index]\n",
    "\n",
    "    def __len__(self):\n",
    "        return self.length"
   ]
  },
  {
   "cell_type": "code",
   "execution_count": 139,
   "id": "9db2c956",
   "metadata": {},
   "outputs": [],
   "source": [
    "train_dataset = TransactionDataset(X_train, y_train)\n",
    "test_dataset = TransactionDataset(X_test, y_test)\n",
    "\n",
    "train_loader = DataLoader(train_dataset, batch_size=32, shuffle=True)\n",
    "test_loader = DataLoader(test_dataset, batch_size=32, shuffle=False)"
   ]
  },
  {
   "cell_type": "code",
   "execution_count": 140,
   "id": "3e783be5",
   "metadata": {},
   "outputs": [
    {
     "name": "stdout",
     "output_type": "stream",
     "text": [
      "Completed: 0%\n",
      "Completed: 5%\n",
      "Completed: 10%\n",
      "Completed: 15%\n",
      "Completed: 20%\n",
      "Completed: 25%\n",
      "Completed: 30%\n",
      "Completed: 35%\n",
      "Completed: 40%\n",
      "Completed: 45%\n",
      "Completed: 50%\n",
      "Completed: 55%\n",
      "Completed: 60%\n",
      "Completed: 65%\n",
      "Completed: 70%\n",
      "Completed: 75%\n",
      "Completed: 80%\n",
      "Completed: 85%\n",
      "Completed: 90%\n",
      "Completed: 95%\n"
     ]
    }
   ],
   "source": [
    "class MLPBinaryClassifier(nn.Module):\n",
    "    def __init__(self, in_dim=4, hide_dim=64):\n",
    "        super(MLPBinaryClassifier, self).__init__()\n",
    "        self._features = in_dim\n",
    "        self.weights_hide = tc.nn.Parameter(tc.randn((in_dim, hide_dim)))\n",
    "        self.bias_hide = tc.nn.Parameter(tc.zeros((hide_dim, ), dtype=tc.float32) + 0.1)\n",
    "        self.weights_clf = tc.nn.Parameter(tc.randn((hide_dim, 1)))\n",
    "        self.bias_clf = tc.nn.Parameter(tc.zeros((1, ), dtype=tc.float32) + 0.1)\n",
    "\n",
    "    def forward(self, x):\n",
    "        # Check input dimensions\n",
    "        assert len(x.shape) == 2 and x.shape[1] == self._features\n",
    "        \n",
    "        # Linear transformation on input to produce hidden states\n",
    "        hidden_states = tc.mm(x, self.weights_hide) + self.bias_hide\n",
    "        \n",
    "        # Apply non-linear activation (ReLU) to hidden states\n",
    "        act_hidden_states = tc.relu(hidden_states)\n",
    "        \n",
    "        # Linear transformation on activated hidden states to produce logits\n",
    "        logits = tc.mm(act_hidden_states, self.weights_clf) + self.bias_clf\n",
    "        \n",
    "        # Apply sigmoid activation to logits for binary classification output\n",
    "        return tc.sigmoid(logits)\n",
    "\n",
    "in_dim = X_train.shape[-1]\n",
    "model = MLPBinaryClassifier(in_dim = in_dim)\n",
    "\n",
    "model_loss = nn.BCELoss() #torch.nn.functional.nll_loss(output[idx_train], labels[idx_train])\n",
    "optimizer = optim.Adam(model.parameters(), lr = 0.005)\n",
    "\n",
    "epochs = 100\n",
    "for epoch in range(epochs):\n",
    "    if epoch % 5 == 0:\n",
    "        print(f\"Completed: {epoch}%\")\n",
    "    model.train()\n",
    "    for batch, (X_batch, y_batch) in enumerate(train_loader):\n",
    "        optimizer.zero_grad()\n",
    "        y_pred = model(X_batch).squeeze()\n",
    "        loss = model_loss(y_pred, y_batch)\n",
    "        loss.backward()\n",
    "        optimizer.step()"
   ]
  },
  {
   "cell_type": "code",
   "execution_count": 141,
   "id": "b06aefbe",
   "metadata": {},
   "outputs": [
    {
     "name": "stdout",
     "output_type": "stream",
     "text": [
      "The accuracy of the model is: 0.41000000000000003\n"
     ]
    }
   ],
   "source": [
    "model.eval()\n",
    "y_pred = []\n",
    "y_true = []\n",
    "\n",
    "with tc.no_grad():\n",
    "    for X_batch, y_batch in test_loader:\n",
    "        y_pred_batch = model(X_batch)\n",
    "        y_pred.extend(y_pred_batch.round().detach().numpy())\n",
    "        y_true.extend(y_batch.detach().numpy())\n",
    "        \n",
    "accuracy = accuracy_score(y_true, y_pred)\n",
    "print(f\"The accuracy of the model is: {round(accuracy, 4) * 100}\")"
   ]
  },
  {
   "cell_type": "code",
   "execution_count": 142,
   "id": "085cdc64",
   "metadata": {},
   "outputs": [
    {
     "name": "stdout",
     "output_type": "stream",
     "text": [
      "Classification Report:\n"
     ]
    },
    {
     "name": "stderr",
     "output_type": "stream",
     "text": [
      "/Users/nachikethinge/Library/Python/3.9/lib/python/site-packages/sklearn/metrics/_classification.py:1334: UndefinedMetricWarning: Precision and F-score are ill-defined and being set to 0.0 in labels with no predicted samples. Use `zero_division` parameter to control this behavior.\n",
      "  _warn_prf(average, modifier, msg_start, len(result))\n",
      "/Users/nachikethinge/Library/Python/3.9/lib/python/site-packages/sklearn/metrics/_classification.py:1334: UndefinedMetricWarning: Precision and F-score are ill-defined and being set to 0.0 in labels with no predicted samples. Use `zero_division` parameter to control this behavior.\n",
      "  _warn_prf(average, modifier, msg_start, len(result))\n",
      "/Users/nachikethinge/Library/Python/3.9/lib/python/site-packages/sklearn/metrics/_classification.py:1334: UndefinedMetricWarning: Precision and F-score are ill-defined and being set to 0.0 in labels with no predicted samples. Use `zero_division` parameter to control this behavior.\n",
      "  _warn_prf(average, modifier, msg_start, len(result))\n"
     ]
    },
    {
     "name": "stdout",
     "output_type": "stream",
     "text": [
      "              precision    recall  f1-score   support\n",
      "\n",
      "         0.0       0.00      0.00      0.00     66411\n",
      "         1.0       0.00      1.00      0.01       275\n",
      "\n",
      "    accuracy                           0.00     66686\n",
      "   macro avg       0.00      0.50      0.00     66686\n",
      "weighted avg       0.00      0.00      0.00     66686\n",
      "\n",
      "Confusion Matrix:\n",
      "[[    0 66411]\n",
      " [    0   275]]\n"
     ]
    }
   ],
   "source": [
    "from sklearn.metrics import classification_report, confusion_matrix\n",
    "\n",
    "print(\"Classification Report:\")\n",
    "print(classification_report(y_true, y_pred))\n",
    "\n",
    "print(\"Confusion Matrix:\")\n",
    "print(confusion_matrix(y_true, y_pred))"
   ]
  },
  {
   "cell_type": "code",
   "execution_count": 143,
   "id": "ca49c279",
   "metadata": {},
   "outputs": [
    {
     "data": {
      "text/plain": [
       "888"
      ]
     },
     "execution_count": 143,
     "metadata": {},
     "output_type": "execute_result"
    }
   ],
   "source": [
    "len(y_train[y_train == 1])"
   ]
  },
  {
   "cell_type": "code",
   "execution_count": 144,
   "id": "a8808254",
   "metadata": {},
   "outputs": [
    {
     "data": {
      "text/plain": [
       "154713"
      ]
     },
     "execution_count": 144,
     "metadata": {},
     "output_type": "execute_result"
    }
   ],
   "source": [
    "len(y_train[y_train == 0])"
   ]
  },
  {
   "cell_type": "code",
   "execution_count": 145,
   "id": "ab82f2ab",
   "metadata": {},
   "outputs": [
    {
     "data": {
      "text/plain": [
       "275"
      ]
     },
     "execution_count": 145,
     "metadata": {},
     "output_type": "execute_result"
    }
   ],
   "source": [
    "len(y_test[y_test == 1])"
   ]
  },
  {
   "cell_type": "code",
   "execution_count": null,
   "id": "f50156d3",
   "metadata": {},
   "outputs": [],
   "source": []
  }
 ],
 "metadata": {
  "kernelspec": {
   "display_name": "Python 3 (ipykernel)",
   "language": "python",
   "name": "python3"
  },
  "language_info": {
   "codemirror_mode": {
    "name": "ipython",
    "version": 3
   },
   "file_extension": ".py",
   "mimetype": "text/x-python",
   "name": "python",
   "nbconvert_exporter": "python",
   "pygments_lexer": "ipython3",
   "version": "3.9.0"
  }
 },
 "nbformat": 4,
 "nbformat_minor": 5
}
